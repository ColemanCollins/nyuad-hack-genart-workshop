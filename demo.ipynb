{
 "cells": [
  {
   "cell_type": "code",
   "execution_count": null,
   "id": "722b8823",
   "metadata": {},
   "outputs": [],
   "source": [
    "# qiskit imports and magic\n",
    "%matplotlib inline\n",
    "from qiskit import IBMQ, execute, transpile\n",
    "from qiskit import QuantumCircuit\n",
    "from qiskit.providers.aer import QasmSimulator\n",
    "from qiskit.tools.visualization import plot_histogram"
   ]
  },
  {
   "cell_type": "code",
   "execution_count": 22,
   "id": "e280cf9e",
   "metadata": {},
   "outputs": [],
   "source": [
    "#if you're on a mac, you'll need some special magic for py5\n",
    "%gui osx"
   ]
  },
  {
   "cell_type": "code",
   "execution_count": 23,
   "id": "ed63e731",
   "metadata": {},
   "outputs": [],
   "source": [
    "# py5 imports\n",
    "import time\n",
    "import py5\n",
    "import py5_tools"
   ]
  },
  {
   "cell_type": "code",
   "execution_count": 49,
   "id": "a338f183",
   "metadata": {},
   "outputs": [],
   "source": [
    "# some important variables\n",
    "line_points = 1000000\n",
    "qubits = 7 # this is determined by the backend we chose, mostly\n",
    "iterations = 5\n",
    "lines = 20"
   ]
  },
  {
   "cell_type": "code",
   "execution_count": 50,
   "id": "e4e5a055-d904-4ad4-9137-6e053c15215b",
   "metadata": {},
   "outputs": [],
   "source": [
    "# Quantum backend setup\n",
    "\n",
    "# I'm using a fake noisy backend (Aer simulator + noise model from terra's testing code). \n",
    "# You can use real hardware by importing \n",
    "# The provider code instead, but I'd recommend prototyping like this\n",
    "from qiskit.test.mock import FakeGuadalupe\n",
    "guadalupe = FakeGuadalupe()\n",
    "noisy_backend = QasmSimulator.from_backend(guadalupe)\n",
    "\n",
    "# let's also register a \"noise free\" simulator for comparison later\n",
    "perfect_backend = QasmSimulator()"
   ]
  },
  {
   "cell_type": "code",
   "execution_count": 51,
   "id": "b11674a2",
   "metadata": {},
   "outputs": [],
   "source": [
    "# build a circuit builder\n",
    "def circuit_builder(builder_qubits, builder_iterations):\n",
    "    circ = QuantumCircuit(builder_qubits, builder_qubits)\n",
    "    for i in range(builder_iterations):\n",
    "        for q in range(qubits-1):\n",
    "            circ.cx(q, q+1)\n",
    "    circ.measure_all(add_bits=False)\n",
    "    return circ"
   ]
  },
  {
   "cell_type": "code",
   "execution_count": 52,
   "id": "29169738",
   "metadata": {},
   "outputs": [
    {
     "name": "stdout",
     "output_type": "stream",
     "text": [
      "                                                                            ░ »\n",
      "q_0: ──■─────────■─────────■─────────■─────────■────────────────────────────░─»\n",
      "     ┌─┴─┐     ┌─┴─┐     ┌─┴─┐     ┌─┴─┐     ┌─┴─┐                          ░ »\n",
      "q_1: ┤ X ├──■──┤ X ├──■──┤ X ├──■──┤ X ├──■──┤ X ├──■───────────────────────░─»\n",
      "     └───┘┌─┴─┐└───┘┌─┴─┐└───┘┌─┴─┐└───┘┌─┴─┐└───┘┌─┴─┐                     ░ »\n",
      "q_2: ─────┤ X ├──■──┤ X ├──■──┤ X ├──■──┤ X ├──■──┤ X ├──■──────────────────░─»\n",
      "          └───┘┌─┴─┐└───┘┌─┴─┐└───┘┌─┴─┐└───┘┌─┴─┐└───┘┌─┴─┐                ░ »\n",
      "q_3: ──────────┤ X ├──■──┤ X ├──■──┤ X ├──■──┤ X ├──■──┤ X ├──■─────────────░─»\n",
      "               └───┘┌─┴─┐└───┘┌─┴─┐└───┘┌─┴─┐└───┘┌─┴─┐└───┘┌─┴─┐           ░ »\n",
      "q_4: ───────────────┤ X ├──■──┤ X ├──■──┤ X ├──■──┤ X ├──■──┤ X ├──■────────░─»\n",
      "                    └───┘┌─┴─┐└───┘┌─┴─┐└───┘┌─┴─┐└───┘┌─┴─┐└───┘┌─┴─┐      ░ »\n",
      "q_5: ────────────────────┤ X ├──■──┤ X ├──■──┤ X ├──■──┤ X ├──■──┤ X ├──■───░─»\n",
      "                         └───┘┌─┴─┐└───┘┌─┴─┐└───┘┌─┴─┐└───┘┌─┴─┐└───┘┌─┴─┐ ░ »\n",
      "q_6: ─────────────────────────┤ X ├─────┤ X ├─────┤ X ├─────┤ X ├─────┤ X ├─░─»\n",
      "                              └───┘     └───┘     └───┘     └───┘     └───┘ ░ »\n",
      "c: 7/═════════════════════════════════════════════════════════════════════════»\n",
      "                                                                              »\n",
      "«     ┌─┐                  \n",
      "«q_0: ┤M├──────────────────\n",
      "«     └╥┘┌─┐               \n",
      "«q_1: ─╫─┤M├───────────────\n",
      "«      ║ └╥┘┌─┐            \n",
      "«q_2: ─╫──╫─┤M├────────────\n",
      "«      ║  ║ └╥┘┌─┐         \n",
      "«q_3: ─╫──╫──╫─┤M├─────────\n",
      "«      ║  ║  ║ └╥┘┌─┐      \n",
      "«q_4: ─╫──╫──╫──╫─┤M├──────\n",
      "«      ║  ║  ║  ║ └╥┘┌─┐   \n",
      "«q_5: ─╫──╫──╫──╫──╫─┤M├───\n",
      "«      ║  ║  ║  ║  ║ └╥┘┌─┐\n",
      "«q_6: ─╫──╫──╫──╫──╫──╫─┤M├\n",
      "«      ║  ║  ║  ║  ║  ║ └╥┘\n",
      "«c: 7/═╩══╩══╩══╩══╩══╩══╩═\n",
      "«      0  1  2  3  4  5  6 \n"
     ]
    }
   ],
   "source": [
    "circ = circuit_builder(qubits, iterations)\n",
    "print(circ)"
   ]
  },
  {
   "cell_type": "code",
   "execution_count": 53,
   "id": "79ad64a3",
   "metadata": {
    "scrolled": false
   },
   "outputs": [
    {
     "name": "stdout",
     "output_type": "stream",
     "text": [
      "{'0000000': 1000000}\n",
      "{'1101011': 731, '0010011': 1097, '1100011': 943, '0001011': 963, '0001101': 1135, '1001001': 1177, '0111101': 1159, '0011101': 927, '0011011': 835, '1011010': 2499, '1000011': 2104, '1110111': 2523, '0001010': 2063, '0110110': 2329, '0010010': 1740, '1111000': 14950, '0101001': 1580, '0000101': 1356, '1011111': 3236, '1110101': 2603, '1000010': 2613, '1111101': 1394, '0011001': 1876, '1110011': 845, '0101111': 1635, '0101110': 2433, '0111011': 1109, '1001101': 1311, '1101101': 884, '0001001': 1724, '1010011': 1098, '1010001': 2821, '0010101': 1388, '0111001': 1084, '1101100': 1912, '1010101': 5004, '0011010': 1658, '1101110': 5129, '0100110': 2387, '1111011': 818, '1101010': 1542, '0000110': 4775, '1001010': 1840, '0001100': 2172, '1000000': 17503, '0001110': 2943, '0101011': 1125, '1111010': 1450, '1001111': 3562, '0011110': 6234, '0010110': 4349, '0011000': 13268, '1011101': 1371, '0010111': 1634, '0100010': 5020, '1010000': 9688, '1111100': 4993, '0010100': 2386, '1000110': 3084, '0100001': 2010, '1100001': 4275, '0110010': 3360, '1110001': 2020, '1111001': 1322, '0000100': 5667, '0010000': 22154, '0101101': 2230, '0011111': 3933, '1011110': 2488, '1010110': 3881, '1010111': 1518, '0111111': 2337, '0110000': 11730, '0110001': 2024, '0010001': 5379, '0100011': 1185, '1101111': 2346, '0110100': 2707, '1011100': 2457, '0110111': 1533, '0000000': 458664, '0110011': 3913, '0100111': 1363, '1100010': 1903, '0101100': 2820, '1100000': 28156, '0100100': 3709, '1101001': 1487, '0111010': 1816, '0001000': 19168, '1111111': 9952, '0111100': 6721, '1100110': 11004, '0111000': 8048, '0000010': 8931, '0000111': 2532, '1000101': 2363, '1010100': 5005, '0011100': 2266, '0101010': 6147, '0110101': 1491, '0001111': 4513, '1110010': 1500, '1110000': 15966, '0111110': 3417, '0100000': 26780, '1110110': 4250, '1000001': 2132, '1011000': 8713, '1000100': 5912, '1001011': 1091, '1110100': 2384, '1000111': 1610, '1001000': 9744, '1100111': 1957, '1011011': 758, '0000001': 11019, '1101000': 9272, '1100100': 2441, '1011001': 886, '1001110': 2821, '0100101': 1585, '0000011': 1550, '1010010': 2116, '1001100': 5334, '1111110': 9146, '1100101': 1083, '0101000': 13993}\n"
     ]
    }
   ],
   "source": [
    "#run a circuit\n",
    "perf_result = perfect_backend.run(transpile(circ, perfect_backend), shots=line_points, memory=True).result()\n",
    "perf_counts = perf_result.get_counts()\n",
    "print(perf_counts)\n",
    "\n",
    "noisy_result = noisy_backend.run(transpile(circ, noisy_backend), shots=line_points, memory=True).result()\n",
    "noisy_counts = noisy_result.get_counts()\n",
    "print(noisy_counts)\n",
    "\n",
    "# get them as a shot list instead\n",
    "perf_list = perf_result.get_memory()\n",
    "noisy_list = noisy_result.get_memory()"
   ]
  },
  {
   "cell_type": "code",
   "execution_count": 54,
   "id": "0c30422b",
   "metadata": {},
   "outputs": [],
   "source": [
    "def convert_list_to_int(list):\n",
    "    return([int(x, 2) for x in list])"
   ]
  },
  {
   "cell_type": "code",
   "execution_count": 56,
   "id": "748ad31e-53ce-4400-a8cf-f3cc0a698eba",
   "metadata": {},
   "outputs": [
    {
     "name": "stdout",
     "output_type": "stream",
     "text": [
      "Sketch is already running. To run a new sketch, exit the running sketch first.\n",
      "the sketch is running!\n"
     ]
    }
   ],
   "source": [
    "def setup():\n",
    "    py5.size(1000, 1000)\n",
    "    py5.no_loop()\n",
    "\n",
    "def draw():\n",
    "    py5.background(255)\n",
    "    black_alpha = py5.color(0, 128)\n",
    "    margin = 50\n",
    "    line_height = (py5.height - (margin*2))/lines\n",
    "    noisy_list_int = convert_list_to_int(noisy_list)\n",
    "    \n",
    "    py5.load_pixels()\n",
    "    for i in range(len(py5.pixels)): #iterate over every pixel starting top left and scanning like a CRT\n",
    "            py5.pixels[i] = py5.color(0, noisy_list_int[i])\n",
    "    \n",
    "    py5.update_pixels()\n",
    "    \n",
    "\n",
    "py5.run_sketch(block=False)\n",
    "print('the sketch is running!')"
   ]
  },
  {
   "cell_type": "code",
   "execution_count": 58,
   "id": "d5cd5575-d514-40bc-8b5f-a3ec428df163",
   "metadata": {},
   "outputs": [
    {
     "data": {
      "application/vnd.jupyter.widget-view+json": {
       "model_id": "d7c05d4de1b04b379d3538c93f3e72ba",
       "version_major": 2,
       "version_minor": 0
      },
      "text/plain": [
       "Output(layout=Layout(max_height='200px', overflow='auto'))"
      ]
     },
     "metadata": {},
     "output_type": "display_data"
    },
    {
     "data": {
      "application/vnd.jupyter.widget-view+json": {
       "model_id": "443efd4055274b149dce0f5c8470b639",
       "version_major": 2,
       "version_minor": 0
      },
      "text/plain": [
       "VBox(children=(Py5SketchPortal(value=b'', layout=\"Layout(border='1px solid gray', height='1000px', width='1000…"
      ]
     },
     "metadata": {},
     "output_type": "display_data"
    }
   ],
   "source": [
    "portal = py5_tools.sketch_portal(quality=75, scale=1.0)\n",
    "portal"
   ]
  },
  {
   "cell_type": "code",
   "execution_count": null,
   "id": "fe4aae40-1bdc-4ca6-b806-d944d5d742f9",
   "metadata": {},
   "outputs": [],
   "source": [
    "#some handy py5 snips\n",
    "\n",
    "# portal = py5_tools.sketch_portal(quality=75, scale=1.0)\n",
    "# portal\n",
    "\n",
    "# py5.hot_reload_draw(draw2)\n",
    "\n",
    "# py5.frame_count\n",
    "\n",
    "py5.exit_sketch()"
   ]
  },
  {
   "cell_type": "code",
   "execution_count": null,
   "id": "1af3034e",
   "metadata": {},
   "outputs": [],
   "source": []
  }
 ],
 "metadata": {
  "kernelspec": {
   "display_name": "Python 3 (ipykernel)",
   "language": "python",
   "name": "python3"
  },
  "language_info": {
   "codemirror_mode": {
    "name": "ipython",
    "version": 3
   },
   "file_extension": ".py",
   "mimetype": "text/x-python",
   "name": "python",
   "nbconvert_exporter": "python",
   "pygments_lexer": "ipython3",
   "version": "3.8.13"
  }
 },
 "nbformat": 4,
 "nbformat_minor": 5
}
